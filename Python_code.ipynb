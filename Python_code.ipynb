{
 "cells": [
  {
   "cell_type": "code",
   "execution_count": 1,
   "metadata": {},
   "outputs": [],
   "source": [
    "import pandas as pd\n",
    "import numpy as np\n",
    "\n",
    "# Load the Excel file\n",
    "SN_df = pd.read_excel('SN_enhancementlist_v2.xlsx')\n",
    "ADO_df = pd.read_excel('ADO_FeatureUserStorylist_V2.xlsx')\n"
   ]
  },
  {
   "cell_type": "markdown",
   "metadata": {},
   "source": [
    "### Data Wrangling"
   ]
  },
  {
   "cell_type": "code",
   "execution_count": 2,
   "metadata": {},
   "outputs": [],
   "source": [
    "assignees_list = SN_df['Assigned to'].dropna().unique()\n",
    "\n",
    "nan_assignees = SN_df['Assigned to'].isna()\n",
    "\n",
    "# Randomly select values from the array to fill NaNs\n",
    "random_assignees = np.random.choice(assignees_list, size=nan_assignees.sum())\n",
    "\n",
    "# Replace NaN values in column 'Assigned to' with the randomly selected values\n",
    "SN_df.loc[nan_assignees, 'Assigned to'] = random_assignees"
   ]
  },
  {
   "cell_type": "code",
   "execution_count": 3,
   "metadata": {},
   "outputs": [],
   "source": [
    "requestor_list = SN_df['Requested For'].dropna().unique()\n",
    "\n",
    "nan_requestors = SN_df['Requested For'].isna()\n",
    "\n",
    "# Randomly select values from the array to fill NaNs\n",
    "random_requestors = np.random.choice(requestor_list, size=nan_requestors.sum())\n",
    "\n",
    "# Replace NaN values in column 'Assigned to' with the randomly selected values\n",
    "SN_df.loc[nan_requestors, 'Requested For'] = random_requestors"
   ]
  },
  {
   "cell_type": "code",
   "execution_count": 4,
   "metadata": {},
   "outputs": [
    {
     "data": {
      "text/plain": [
       "Timedelta('-96 days +02:28:19')"
      ]
     },
     "execution_count": 4,
     "metadata": {},
     "output_type": "execute_result"
    }
   ],
   "source": [
    "# Check what the median completion time of a ticket looks like\n",
    "closed_SN = SN_df.query('State == \"Closed Complete\"')\n",
    "completion_times = closed_SN['Opened'] - closed_SN['Updated']\n",
    "completion_times.median()"
   ]
  },
  {
   "cell_type": "code",
   "execution_count": 7,
   "metadata": {},
   "outputs": [],
   "source": [
    "# Impute 'Due date' with a normal distribution with mean = 90 days from opened date\n",
    "\n",
    "random_days = np.random.normal(loc=90, scale=50, size=len(SN_df))\n",
    "SN_df['days_delta'] = random_days\n",
    "SN_df.loc[:,'Due date'] = SN_df.loc[:,'Opened'] + pd.to_timedelta(random_days, unit='D');\n"
   ]
  },
  {
   "cell_type": "code",
   "execution_count": null,
   "metadata": {},
   "outputs": [],
   "source": []
  }
 ],
 "metadata": {
  "kernelspec": {
   "display_name": "myenv",
   "language": "python",
   "name": "python3"
  },
  "language_info": {
   "codemirror_mode": {
    "name": "ipython",
    "version": 3
   },
   "file_extension": ".py",
   "mimetype": "text/x-python",
   "name": "python",
   "nbconvert_exporter": "python",
   "pygments_lexer": "ipython3",
   "version": "3.11.8"
  }
 },
 "nbformat": 4,
 "nbformat_minor": 2
}
